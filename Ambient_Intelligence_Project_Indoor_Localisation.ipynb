{
  "cells": [
    {
      "cell_type": "markdown",
      "metadata": {
        "id": "Kit5nW_Iexjt"
      },
      "source": [
        "## **Supervised Deep Learning for RSSI Fingerprinting in Indoor Localization**"
      ]
    },
    {
      "cell_type": "markdown",
      "metadata": {
        "id": "jAUzcTlPj2Hj"
      },
      "source": [
        "### **LIBRARIES**"
      ]
    },
    {
      "cell_type": "markdown",
      "metadata": {
        "id": "hGdUot4teq09"
      },
      "source": [
        "Declaring essential libraries and modules for data analysis, visualization, and machine learning."
      ]
    },
    {
      "cell_type": "code",
      "execution_count": null,
      "metadata": {
        "id": "pkS3AsOgFIif"
      },
      "outputs": [],
      "source": [
        "import pandas as pd\n",
        "import seaborn as sns\n",
        "import matplotlib.pyplot as plt\n",
        "import math\n",
        "import tensorflow as tf\n",
        "from sklearn.model_selection import train_test_split\n",
        "from sklearn.metrics import accuracy_score\n",
        "from tensorflow import keras\n",
        "from tensorflow.keras import layers\n",
        "from keras.optimizers import Adam\n",
        "from tensorflow.keras import optimizers\n",
        "from tensorflow.keras import Sequential\n",
        "from tensorflow.keras.layers import Conv2D, MaxPooling1D, Flatten, Dense, Dropout\n",
        "import numpy as np\n",
        "from tensorflow.keras.models import Sequential\n",
        "from tensorflow.keras.layers import Conv1D, MaxPooling1D, Flatten, Dense\n",
        "from sklearn.preprocessing import StandardScaler\n",
        "from sklearn.neighbors import KNeighborsRegressor\n",
        "from sklearn.metrics import mean_absolute_error, mean_squared_error, r2_score\n"
      ]
    },
    {
      "cell_type": "markdown",
      "metadata": {
        "id": "vZOYzoFqkCjY"
      },
      "source": [
        "### **DATASET**"
      ]
    },
    {
      "cell_type": "markdown",
      "metadata": {
        "id": "KXaCJUAbk9I1"
      },
      "source": [
        "Loading the dataset UjiIndoorLoc: An indoor localization dataset"
      ]
    },
    {
      "cell_type": "code",
      "execution_count": null,
      "metadata": {
        "colab": {
          "base_uri": "https://localhost:8080/"
        },
        "id": "bJJPM_2cFnYZ",
        "outputId": "72cb6663-282e-4e20-acda-36f24f9ddeb2"
      },
      "outputs": [
        {
          "output_type": "stream",
          "name": "stdout",
          "text": [
            "Drive already mounted at /content/drive; to attempt to forcibly remount, call drive.mount(\"/content/drive\", force_remount=True).\n"
          ]
        }
      ],
      "source": [
        "from google.colab import drive\n",
        "drive.mount('/content/drive')"
      ]
    },
    {
      "cell_type": "code",
      "execution_count": null,
      "metadata": {
        "id": "2Mvro5cuFpmE"
      },
      "outputs": [],
      "source": [
        "training_RSSI= '/content/drive/MyDrive/UJIndoorLoc/trainingData.csv'\n",
        "test_RSSI= '/content/drive/MyDrive/UJIndoorLoc/validationData.csv'\n"
      ]
    },
    {
      "cell_type": "markdown",
      "metadata": {
        "id": "S_SVYN2EpzY8"
      },
      "source": [
        "Shape of the dataset"
      ]
    },
    {
      "cell_type": "code",
      "execution_count": null,
      "metadata": {
        "colab": {
          "base_uri": "https://localhost:8080/"
        },
        "id": "2psKRvL6Fuct",
        "outputId": "b6f0479c-e8f6-4f36-cbf3-cf9ceb9d3cca"
      },
      "outputs": [
        {
          "output_type": "execute_result",
          "data": {
            "text/plain": [
              "(19937, 529)"
            ]
          },
          "metadata": {},
          "execution_count": 4
        }
      ],
      "source": [
        "training_CSV=pd.read_csv(training_RSSI)\n",
        "training= pd.DataFrame(training_CSV)\n",
        "training.shape"
      ]
    },
    {
      "cell_type": "code",
      "execution_count": null,
      "metadata": {
        "colab": {
          "base_uri": "https://localhost:8080/"
        },
        "id": "J2ebmLefFz1W",
        "outputId": "947872e3-78e7-4328-9e8b-9151854de01d"
      },
      "outputs": [
        {
          "output_type": "execute_result",
          "data": {
            "text/plain": [
              "(1111, 529)"
            ]
          },
          "metadata": {},
          "execution_count": 5
        }
      ],
      "source": [
        "test_CSV=pd.read_csv(test_RSSI)\n",
        "test= pd.DataFrame(test_CSV)\n",
        "test.shape"
      ]
    },
    {
      "cell_type": "markdown",
      "metadata": {
        "id": "mixD-uDfnnKS"
      },
      "source": [
        "Merging the data and visualizing the shape"
      ]
    },
    {
      "cell_type": "code",
      "execution_count": null,
      "metadata": {
        "colab": {
          "base_uri": "https://localhost:8080/"
        },
        "id": "9UddXOYHGFTU",
        "outputId": "0fe5700a-16e2-4b9d-d3dc-d2c9539c49ca"
      },
      "outputs": [
        {
          "output_type": "execute_result",
          "data": {
            "text/plain": [
              "(21048, 529)"
            ]
          },
          "metadata": {},
          "execution_count": 6
        }
      ],
      "source": [
        "data=pd.concat([training,test])\n",
        "data.shape"
      ]
    },
    {
      "cell_type": "markdown",
      "metadata": {
        "id": "Pomt5hx9ngJ1"
      },
      "source": [
        "Dropping unnecessary datas from dataset."
      ]
    },
    {
      "cell_type": "code",
      "execution_count": null,
      "metadata": {
        "colab": {
          "base_uri": "https://localhost:8080/",
          "height": 255
        },
        "id": "OL6NHhzbGOR_",
        "outputId": "69a2c5ba-7d71-45da-8a89-7452bcf31b8f"
      },
      "outputs": [
        {
          "output_type": "execute_result",
          "data": {
            "text/plain": [
              "   WAP001  WAP002  WAP003  WAP004  WAP005  WAP006  WAP007  WAP008  WAP009  \\\n",
              "0     100     100     100     100     100     100     100     100     100   \n",
              "1     100     100     100     100     100     100     100     100     100   \n",
              "2     100     100     100     100     100     100     100     -97     100   \n",
              "3     100     100     100     100     100     100     100     100     100   \n",
              "4     100     100     100     100     100     100     100     100     100   \n",
              "\n",
              "   WAP010  ...  WAP515  WAP516  WAP517  WAP518  WAP519  WAP520  LONGITUDE  \\\n",
              "0     100  ...     100     100     100     100     100     100 -7541.2643   \n",
              "1     100  ...     100     100     100     100     100     100 -7536.6212   \n",
              "2     100  ...     100     100     100     100     100     100 -7519.1524   \n",
              "3     100  ...     100     100     100     100     100     100 -7524.5704   \n",
              "4     100  ...     100     100     100     100     100     100 -7632.1436   \n",
              "\n",
              "       LATITUDE  FLOOR  BUILDINGID  \n",
              "0  4.864921e+06      2           1  \n",
              "1  4.864934e+06      2           1  \n",
              "2  4.864950e+06      2           1  \n",
              "3  4.864934e+06      2           1  \n",
              "4  4.864982e+06      0           0  \n",
              "\n",
              "[5 rows x 524 columns]"
            ],
            "text/html": [
              "\n",
              "  <div id=\"df-c009ecbe-e1c9-490d-9b4d-9509a04ad734\" class=\"colab-df-container\">\n",
              "    <div>\n",
              "<style scoped>\n",
              "    .dataframe tbody tr th:only-of-type {\n",
              "        vertical-align: middle;\n",
              "    }\n",
              "\n",
              "    .dataframe tbody tr th {\n",
              "        vertical-align: top;\n",
              "    }\n",
              "\n",
              "    .dataframe thead th {\n",
              "        text-align: right;\n",
              "    }\n",
              "</style>\n",
              "<table border=\"1\" class=\"dataframe\">\n",
              "  <thead>\n",
              "    <tr style=\"text-align: right;\">\n",
              "      <th></th>\n",
              "      <th>WAP001</th>\n",
              "      <th>WAP002</th>\n",
              "      <th>WAP003</th>\n",
              "      <th>WAP004</th>\n",
              "      <th>WAP005</th>\n",
              "      <th>WAP006</th>\n",
              "      <th>WAP007</th>\n",
              "      <th>WAP008</th>\n",
              "      <th>WAP009</th>\n",
              "      <th>WAP010</th>\n",
              "      <th>...</th>\n",
              "      <th>WAP515</th>\n",
              "      <th>WAP516</th>\n",
              "      <th>WAP517</th>\n",
              "      <th>WAP518</th>\n",
              "      <th>WAP519</th>\n",
              "      <th>WAP520</th>\n",
              "      <th>LONGITUDE</th>\n",
              "      <th>LATITUDE</th>\n",
              "      <th>FLOOR</th>\n",
              "      <th>BUILDINGID</th>\n",
              "    </tr>\n",
              "  </thead>\n",
              "  <tbody>\n",
              "    <tr>\n",
              "      <th>0</th>\n",
              "      <td>100</td>\n",
              "      <td>100</td>\n",
              "      <td>100</td>\n",
              "      <td>100</td>\n",
              "      <td>100</td>\n",
              "      <td>100</td>\n",
              "      <td>100</td>\n",
              "      <td>100</td>\n",
              "      <td>100</td>\n",
              "      <td>100</td>\n",
              "      <td>...</td>\n",
              "      <td>100</td>\n",
              "      <td>100</td>\n",
              "      <td>100</td>\n",
              "      <td>100</td>\n",
              "      <td>100</td>\n",
              "      <td>100</td>\n",
              "      <td>-7541.2643</td>\n",
              "      <td>4.864921e+06</td>\n",
              "      <td>2</td>\n",
              "      <td>1</td>\n",
              "    </tr>\n",
              "    <tr>\n",
              "      <th>1</th>\n",
              "      <td>100</td>\n",
              "      <td>100</td>\n",
              "      <td>100</td>\n",
              "      <td>100</td>\n",
              "      <td>100</td>\n",
              "      <td>100</td>\n",
              "      <td>100</td>\n",
              "      <td>100</td>\n",
              "      <td>100</td>\n",
              "      <td>100</td>\n",
              "      <td>...</td>\n",
              "      <td>100</td>\n",
              "      <td>100</td>\n",
              "      <td>100</td>\n",
              "      <td>100</td>\n",
              "      <td>100</td>\n",
              "      <td>100</td>\n",
              "      <td>-7536.6212</td>\n",
              "      <td>4.864934e+06</td>\n",
              "      <td>2</td>\n",
              "      <td>1</td>\n",
              "    </tr>\n",
              "    <tr>\n",
              "      <th>2</th>\n",
              "      <td>100</td>\n",
              "      <td>100</td>\n",
              "      <td>100</td>\n",
              "      <td>100</td>\n",
              "      <td>100</td>\n",
              "      <td>100</td>\n",
              "      <td>100</td>\n",
              "      <td>-97</td>\n",
              "      <td>100</td>\n",
              "      <td>100</td>\n",
              "      <td>...</td>\n",
              "      <td>100</td>\n",
              "      <td>100</td>\n",
              "      <td>100</td>\n",
              "      <td>100</td>\n",
              "      <td>100</td>\n",
              "      <td>100</td>\n",
              "      <td>-7519.1524</td>\n",
              "      <td>4.864950e+06</td>\n",
              "      <td>2</td>\n",
              "      <td>1</td>\n",
              "    </tr>\n",
              "    <tr>\n",
              "      <th>3</th>\n",
              "      <td>100</td>\n",
              "      <td>100</td>\n",
              "      <td>100</td>\n",
              "      <td>100</td>\n",
              "      <td>100</td>\n",
              "      <td>100</td>\n",
              "      <td>100</td>\n",
              "      <td>100</td>\n",
              "      <td>100</td>\n",
              "      <td>100</td>\n",
              "      <td>...</td>\n",
              "      <td>100</td>\n",
              "      <td>100</td>\n",
              "      <td>100</td>\n",
              "      <td>100</td>\n",
              "      <td>100</td>\n",
              "      <td>100</td>\n",
              "      <td>-7524.5704</td>\n",
              "      <td>4.864934e+06</td>\n",
              "      <td>2</td>\n",
              "      <td>1</td>\n",
              "    </tr>\n",
              "    <tr>\n",
              "      <th>4</th>\n",
              "      <td>100</td>\n",
              "      <td>100</td>\n",
              "      <td>100</td>\n",
              "      <td>100</td>\n",
              "      <td>100</td>\n",
              "      <td>100</td>\n",
              "      <td>100</td>\n",
              "      <td>100</td>\n",
              "      <td>100</td>\n",
              "      <td>100</td>\n",
              "      <td>...</td>\n",
              "      <td>100</td>\n",
              "      <td>100</td>\n",
              "      <td>100</td>\n",
              "      <td>100</td>\n",
              "      <td>100</td>\n",
              "      <td>100</td>\n",
              "      <td>-7632.1436</td>\n",
              "      <td>4.864982e+06</td>\n",
              "      <td>0</td>\n",
              "      <td>0</td>\n",
              "    </tr>\n",
              "  </tbody>\n",
              "</table>\n",
              "<p>5 rows × 524 columns</p>\n",
              "</div>\n",
              "    <div class=\"colab-df-buttons\">\n",
              "\n",
              "  <div class=\"colab-df-container\">\n",
              "    <button class=\"colab-df-convert\" onclick=\"convertToInteractive('df-c009ecbe-e1c9-490d-9b4d-9509a04ad734')\"\n",
              "            title=\"Convert this dataframe to an interactive table.\"\n",
              "            style=\"display:none;\">\n",
              "\n",
              "  <svg xmlns=\"http://www.w3.org/2000/svg\" height=\"24px\" viewBox=\"0 -960 960 960\">\n",
              "    <path d=\"M120-120v-720h720v720H120Zm60-500h600v-160H180v160Zm220 220h160v-160H400v160Zm0 220h160v-160H400v160ZM180-400h160v-160H180v160Zm440 0h160v-160H620v160ZM180-180h160v-160H180v160Zm440 0h160v-160H620v160Z\"/>\n",
              "  </svg>\n",
              "    </button>\n",
              "\n",
              "  <style>\n",
              "    .colab-df-container {\n",
              "      display:flex;\n",
              "      gap: 12px;\n",
              "    }\n",
              "\n",
              "    .colab-df-convert {\n",
              "      background-color: #E8F0FE;\n",
              "      border: none;\n",
              "      border-radius: 50%;\n",
              "      cursor: pointer;\n",
              "      display: none;\n",
              "      fill: #1967D2;\n",
              "      height: 32px;\n",
              "      padding: 0 0 0 0;\n",
              "      width: 32px;\n",
              "    }\n",
              "\n",
              "    .colab-df-convert:hover {\n",
              "      background-color: #E2EBFA;\n",
              "      box-shadow: 0px 1px 2px rgba(60, 64, 67, 0.3), 0px 1px 3px 1px rgba(60, 64, 67, 0.15);\n",
              "      fill: #174EA6;\n",
              "    }\n",
              "\n",
              "    .colab-df-buttons div {\n",
              "      margin-bottom: 4px;\n",
              "    }\n",
              "\n",
              "    [theme=dark] .colab-df-convert {\n",
              "      background-color: #3B4455;\n",
              "      fill: #D2E3FC;\n",
              "    }\n",
              "\n",
              "    [theme=dark] .colab-df-convert:hover {\n",
              "      background-color: #434B5C;\n",
              "      box-shadow: 0px 1px 3px 1px rgba(0, 0, 0, 0.15);\n",
              "      filter: drop-shadow(0px 1px 2px rgba(0, 0, 0, 0.3));\n",
              "      fill: #FFFFFF;\n",
              "    }\n",
              "  </style>\n",
              "\n",
              "    <script>\n",
              "      const buttonEl =\n",
              "        document.querySelector('#df-c009ecbe-e1c9-490d-9b4d-9509a04ad734 button.colab-df-convert');\n",
              "      buttonEl.style.display =\n",
              "        google.colab.kernel.accessAllowed ? 'block' : 'none';\n",
              "\n",
              "      async function convertToInteractive(key) {\n",
              "        const element = document.querySelector('#df-c009ecbe-e1c9-490d-9b4d-9509a04ad734');\n",
              "        const dataTable =\n",
              "          await google.colab.kernel.invokeFunction('convertToInteractive',\n",
              "                                                    [key], {});\n",
              "        if (!dataTable) return;\n",
              "\n",
              "        const docLinkHtml = 'Like what you see? Visit the ' +\n",
              "          '<a target=\"_blank\" href=https://colab.research.google.com/notebooks/data_table.ipynb>data table notebook</a>'\n",
              "          + ' to learn more about interactive tables.';\n",
              "        element.innerHTML = '';\n",
              "        dataTable['output_type'] = 'display_data';\n",
              "        await google.colab.output.renderOutput(dataTable, element);\n",
              "        const docLink = document.createElement('div');\n",
              "        docLink.innerHTML = docLinkHtml;\n",
              "        element.appendChild(docLink);\n",
              "      }\n",
              "    </script>\n",
              "  </div>\n",
              "\n",
              "\n",
              "<div id=\"df-e3bf486b-1208-4193-9431-2839285839ce\">\n",
              "  <button class=\"colab-df-quickchart\" onclick=\"quickchart('df-e3bf486b-1208-4193-9431-2839285839ce')\"\n",
              "            title=\"Suggest charts.\"\n",
              "            style=\"display:none;\">\n",
              "\n",
              "<svg xmlns=\"http://www.w3.org/2000/svg\" height=\"24px\"viewBox=\"0 0 24 24\"\n",
              "     width=\"24px\">\n",
              "    <g>\n",
              "        <path d=\"M19 3H5c-1.1 0-2 .9-2 2v14c0 1.1.9 2 2 2h14c1.1 0 2-.9 2-2V5c0-1.1-.9-2-2-2zM9 17H7v-7h2v7zm4 0h-2V7h2v10zm4 0h-2v-4h2v4z\"/>\n",
              "    </g>\n",
              "</svg>\n",
              "  </button>\n",
              "\n",
              "<style>\n",
              "  .colab-df-quickchart {\n",
              "      --bg-color: #E8F0FE;\n",
              "      --fill-color: #1967D2;\n",
              "      --hover-bg-color: #E2EBFA;\n",
              "      --hover-fill-color: #174EA6;\n",
              "      --disabled-fill-color: #AAA;\n",
              "      --disabled-bg-color: #DDD;\n",
              "  }\n",
              "\n",
              "  [theme=dark] .colab-df-quickchart {\n",
              "      --bg-color: #3B4455;\n",
              "      --fill-color: #D2E3FC;\n",
              "      --hover-bg-color: #434B5C;\n",
              "      --hover-fill-color: #FFFFFF;\n",
              "      --disabled-bg-color: #3B4455;\n",
              "      --disabled-fill-color: #666;\n",
              "  }\n",
              "\n",
              "  .colab-df-quickchart {\n",
              "    background-color: var(--bg-color);\n",
              "    border: none;\n",
              "    border-radius: 50%;\n",
              "    cursor: pointer;\n",
              "    display: none;\n",
              "    fill: var(--fill-color);\n",
              "    height: 32px;\n",
              "    padding: 0;\n",
              "    width: 32px;\n",
              "  }\n",
              "\n",
              "  .colab-df-quickchart:hover {\n",
              "    background-color: var(--hover-bg-color);\n",
              "    box-shadow: 0 1px 2px rgba(60, 64, 67, 0.3), 0 1px 3px 1px rgba(60, 64, 67, 0.15);\n",
              "    fill: var(--button-hover-fill-color);\n",
              "  }\n",
              "\n",
              "  .colab-df-quickchart-complete:disabled,\n",
              "  .colab-df-quickchart-complete:disabled:hover {\n",
              "    background-color: var(--disabled-bg-color);\n",
              "    fill: var(--disabled-fill-color);\n",
              "    box-shadow: none;\n",
              "  }\n",
              "\n",
              "  .colab-df-spinner {\n",
              "    border: 2px solid var(--fill-color);\n",
              "    border-color: transparent;\n",
              "    border-bottom-color: var(--fill-color);\n",
              "    animation:\n",
              "      spin 1s steps(1) infinite;\n",
              "  }\n",
              "\n",
              "  @keyframes spin {\n",
              "    0% {\n",
              "      border-color: transparent;\n",
              "      border-bottom-color: var(--fill-color);\n",
              "      border-left-color: var(--fill-color);\n",
              "    }\n",
              "    20% {\n",
              "      border-color: transparent;\n",
              "      border-left-color: var(--fill-color);\n",
              "      border-top-color: var(--fill-color);\n",
              "    }\n",
              "    30% {\n",
              "      border-color: transparent;\n",
              "      border-left-color: var(--fill-color);\n",
              "      border-top-color: var(--fill-color);\n",
              "      border-right-color: var(--fill-color);\n",
              "    }\n",
              "    40% {\n",
              "      border-color: transparent;\n",
              "      border-right-color: var(--fill-color);\n",
              "      border-top-color: var(--fill-color);\n",
              "    }\n",
              "    60% {\n",
              "      border-color: transparent;\n",
              "      border-right-color: var(--fill-color);\n",
              "    }\n",
              "    80% {\n",
              "      border-color: transparent;\n",
              "      border-right-color: var(--fill-color);\n",
              "      border-bottom-color: var(--fill-color);\n",
              "    }\n",
              "    90% {\n",
              "      border-color: transparent;\n",
              "      border-bottom-color: var(--fill-color);\n",
              "    }\n",
              "  }\n",
              "</style>\n",
              "\n",
              "  <script>\n",
              "    async function quickchart(key) {\n",
              "      const quickchartButtonEl =\n",
              "        document.querySelector('#' + key + ' button');\n",
              "      quickchartButtonEl.disabled = true;  // To prevent multiple clicks.\n",
              "      quickchartButtonEl.classList.add('colab-df-spinner');\n",
              "      try {\n",
              "        const charts = await google.colab.kernel.invokeFunction(\n",
              "            'suggestCharts', [key], {});\n",
              "      } catch (error) {\n",
              "        console.error('Error during call to suggestCharts:', error);\n",
              "      }\n",
              "      quickchartButtonEl.classList.remove('colab-df-spinner');\n",
              "      quickchartButtonEl.classList.add('colab-df-quickchart-complete');\n",
              "    }\n",
              "    (() => {\n",
              "      let quickchartButtonEl =\n",
              "        document.querySelector('#df-e3bf486b-1208-4193-9431-2839285839ce button');\n",
              "      quickchartButtonEl.style.display =\n",
              "        google.colab.kernel.accessAllowed ? 'block' : 'none';\n",
              "    })();\n",
              "  </script>\n",
              "</div>\n",
              "    </div>\n",
              "  </div>\n"
            ]
          },
          "metadata": {},
          "execution_count": 7
        }
      ],
      "source": [
        "column_drop=[\"SPACEID\", \"RELATIVEPOSITION\", \"USERID\", \"PHONEID\", \"TIMESTAMP\"]\n",
        "new_data=data.drop(columns=column_drop)\n",
        "new_data.head()"
      ]
    },
    {
      "cell_type": "markdown",
      "metadata": {
        "id": "INPcouQTszVw"
      },
      "source": [
        "Visualisation by means of graph"
      ]
    },
    {
      "cell_type": "code",
      "execution_count": null,
      "metadata": {
        "colab": {
          "base_uri": "https://localhost:8080/",
          "height": 568
        },
        "id": "-8SNgPuVKkDV",
        "outputId": "ae07f92e-34b8-4b5a-99d8-4fdb10f6ccfb"
      },
      "outputs": [
        {
          "output_type": "display_data",
          "data": {
            "text/plain": [
              "<Figure size 1200x600 with 2 Axes>"
            ],
            "image/png": "[encoded data removed]"
          },
          "metadata": {}
        }
      ],
      "source": [
        "fig, axes = plt.subplots(1, 2, figsize=(12, 6))\n",
        "\n",
        "sns.countplot(x='FLOOR', data=new_data, ax=axes[0])\n",
        "axes[0].set_title('Count of FLOOR')\n",
        "\n",
        "sns.countplot(x='BUILDINGID', data=new_data, ax=axes[1])\n",
        "axes[1].set_title('Count of BUILDINGID')\n",
        "\n",
        "plt.tight_layout()\n",
        "plt.show()"
      ]
    },
    {
      "cell_type": "markdown",
      "metadata": {
        "id": "NfKoQ4Gks4uU"
      },
      "source": [
        "### **NORMALISATION OF DATA**"
      ]
    },
    {
      "cell_type": "markdown",
      "source": [
        "Aims to bring all features to a similar scale or range."
      ],
      "metadata": {
        "id": "NnJEuP8_6svx"
      }
    },
    {
      "cell_type": "code",
      "execution_count": null,
      "metadata": {
        "id": "egFvwnEtLBKh"
      },
      "outputs": [],
      "source": [
        "def normalize(x, xmin, xmax, a, b):\n",
        "    numerator = x - xmin        #difference between original value and min value\n",
        "    denominator = xmax - xmin   #range of values in original set\n",
        "    multiplier = b - a          # range of values in new set\n",
        "    ans = (numerator / denominator) * multiplier + a #scaling and multiplying then adding to shift the desired value to new range\n",
        "    return ans"
      ]
    },
    {
      "cell_type": "markdown",
      "metadata": {
        "id": "uLjcwp6Rv30J"
      },
      "source": [
        "If RSSI fingerprint is in between (-104 - 0) it is reachable and if it is represented by 100 it is not reachable. Normalising it to (0.25,1) for (-104 - 0) and keeping 0 for 100."
      ]
    },
    {
      "cell_type": "code",
      "execution_count": null,
      "metadata": {
        "id": "yKAmSla1LHjw"
      },
      "outputs": [],
      "source": [
        "sig_min = -104\n",
        "sig_max = 0\n",
        "tar_min = 0.25\n",
        "tar_max = 1.0\n",
        "no_sig = 100\n",
        "def normalize_wifi(num):\n",
        "    num = float(num)\n",
        "    if math.isclose(num, no_sig, rel_tol=1e-3): #compare the values by keeping the relative tolerance\n",
        "        return 0\n",
        "    else:\n",
        "        ans = normalize(num, sig_min, sig_max, tar_min, tar_max)\n",
        "        return ans"
      ]
    },
    {
      "cell_type": "code",
      "execution_count": null,
      "metadata": {
        "id": "TXYcMIcvLKga"
      },
      "outputs": [],
      "source": [
        "RSSI_data = new_data.columns[:520]\n"
      ]
    },
    {
      "cell_type": "code",
      "execution_count": null,
      "metadata": {
        "id": "Ar_-6RTgLX_N"
      },
      "outputs": [],
      "source": [
        "# Normalize WiFi values\n",
        "for i in RSSI_data:\n",
        "    new_data[i] = new_data[i].apply(normalize_wifi)"
      ]
    },
    {
      "cell_type": "code",
      "execution_count": null,
      "metadata": {
        "colab": {
          "base_uri": "https://localhost:8080/",
          "height": 443
        },
        "id": "pnBj3aaxL5Ko",
        "outputId": "f55484ab-e3db-4ac5-9f2d-c8c5cc1c6552"
      },
      "outputs": [
        {
          "output_type": "execute_result",
          "data": {
            "text/plain": [
              "      WAP001  WAP002  WAP003  WAP004  WAP005  WAP006  WAP007    WAP008  \\\n",
              "0        0.0     0.0     0.0     0.0     0.0     0.0     0.0  0.000000   \n",
              "1        0.0     0.0     0.0     0.0     0.0     0.0     0.0  0.000000   \n",
              "2        0.0     0.0     0.0     0.0     0.0     0.0     0.0  0.300481   \n",
              "3        0.0     0.0     0.0     0.0     0.0     0.0     0.0  0.000000   \n",
              "4        0.0     0.0     0.0     0.0     0.0     0.0     0.0  0.000000   \n",
              "...      ...     ...     ...     ...     ...     ...     ...       ...   \n",
              "1106     0.0     0.0     0.0     0.0     0.0     0.0     0.0  0.000000   \n",
              "1107     0.0     0.0     0.0     0.0     0.0     0.0     0.0  0.000000   \n",
              "1108     0.0     0.0     0.0     0.0     0.0     0.0     0.0  0.000000   \n",
              "1109     0.0     0.0     0.0     0.0     0.0     0.0     0.0  0.000000   \n",
              "1110     0.0     0.0     0.0     0.0     0.0     0.0     0.0  0.000000   \n",
              "\n",
              "      WAP009  WAP010  ...  WAP515  WAP516  WAP517  WAP518  WAP519  WAP520  \\\n",
              "0        0.0     0.0  ...     0.0     0.0     0.0     0.0     0.0     0.0   \n",
              "1        0.0     0.0  ...     0.0     0.0     0.0     0.0     0.0     0.0   \n",
              "2        0.0     0.0  ...     0.0     0.0     0.0     0.0     0.0     0.0   \n",
              "3        0.0     0.0  ...     0.0     0.0     0.0     0.0     0.0     0.0   \n",
              "4        0.0     0.0  ...     0.0     0.0     0.0     0.0     0.0     0.0   \n",
              "...      ...     ...  ...     ...     ...     ...     ...     ...     ...   \n",
              "1106     0.0     0.0  ...     0.0     0.0     0.0     0.0     0.0     0.0   \n",
              "1107     0.0     0.0  ...     0.0     0.0     0.0     0.0     0.0     0.0   \n",
              "1108     0.0     0.0  ...     0.0     0.0     0.0     0.0     0.0     0.0   \n",
              "1109     0.0     0.0  ...     0.0     0.0     0.0     0.0     0.0     0.0   \n",
              "1110     0.0     0.0  ...     0.0     0.0     0.0     0.0     0.0     0.0   \n",
              "\n",
              "        LONGITUDE      LATITUDE  FLOOR  BUILDINGID  \n",
              "0    -7541.264300  4.864921e+06      2           1  \n",
              "1    -7536.621200  4.864934e+06      2           1  \n",
              "2    -7519.152400  4.864950e+06      2           1  \n",
              "3    -7524.570400  4.864934e+06      2           1  \n",
              "4    -7632.143600  4.864982e+06      0           0  \n",
              "...           ...           ...    ...         ...  \n",
              "1106 -7317.344231  4.864796e+06      3           2  \n",
              "1107 -7313.731120  4.864792e+06      3           2  \n",
              "1108 -7637.535798  4.864903e+06      0           0  \n",
              "1109 -7636.654005  4.864905e+06      0           0  \n",
              "1110 -7637.944120  4.864904e+06      0           0  \n",
              "\n",
              "[21048 rows x 524 columns]"
            ],
            "text/html": [
              "\n",
              "  <div id=\"df-868894a0-18ad-4747-952b-aa341420b027\" class=\"colab-df-container\">\n",
              "    <div>\n",
              "<style scoped>\n",
              "    .dataframe tbody tr th:only-of-type {\n",
              "        vertical-align: middle;\n",
              "    }\n",
              "\n",
              "    .dataframe tbody tr th {\n",
              "        vertical-align: top;\n",
              "    }\n",
              "\n",
              "    .dataframe thead th {\n",
              "        text-align: right;\n",
              "    }\n",
              "</style>\n",
              "<table border=\"1\" class=\"dataframe\">\n",
              "  <thead>\n",
              "    <tr style=\"text-align: right;\">\n",
              "      <th></th>\n",
              "      <th>WAP001</th>\n",
              "      <th>WAP002</th>\n",
              "      <th>WAP003</th>\n",
              "      <th>WAP004</th>\n",
              "      <th>WAP005</th>\n",
              "      <th>WAP006</th>\n",
              "      <th>WAP007</th>\n",
              "      <th>WAP008</th>\n",
              "      <th>WAP009</th>\n",
              "      <th>WAP010</th>\n",
              "      <th>...</th>\n",
              "      <th>WAP515</th>\n",
              "      <th>WAP516</th>\n",
              "      <th>WAP517</th>\n",
              "      <th>WAP518</th>\n",
              "      <th>WAP519</th>\n",
              "      <th>WAP520</th>\n",
              "      <th>LONGITUDE</th>\n",
              "      <th>LATITUDE</th>\n",
              "      <th>FLOOR</th>\n",
              "      <th>BUILDINGID</th>\n",
              "    </tr>\n",
              "  </thead>\n",
              "  <tbody>\n",
              "    <tr>\n",
              "      <th>0</th>\n",
              "      <td>0.0</td>\n",
              "      <td>0.0</td>\n",
              "      <td>0.0</td>\n",
              "      <td>0.0</td>\n",
              "      <td>0.0</td>\n",
              "      <td>0.0</td>\n",
              "      <td>0.0</td>\n",
              "      <td>0.000000</td>\n",
              "      <td>0.0</td>\n",
              "      <td>0.0</td>\n",
              "      <td>...</td>\n",
              "      <td>0.0</td>\n",
              "      <td>0.0</td>\n",
              "      <td>0.0</td>\n",
              "      <td>0.0</td>\n",
              "      <td>0.0</td>\n",
              "      <td>0.0</td>\n",
              "      <td>-7541.264300</td>\n",
              "      <td>4.864921e+06</td>\n",
              "      <td>2</td>\n",
              "      <td>1</td>\n",
              "    </tr>\n",
              "    <tr>\n",
              "      <th>1</th>\n",
              "      <td>0.0</td>\n",
              "      <td>0.0</td>\n",
              "      <td>0.0</td>\n",
              "      <td>0.0</td>\n",
              "      <td>0.0</td>\n",
              "      <td>0.0</td>\n",
              "      <td>0.0</td>\n",
              "      <td>0.000000</td>\n",
              "      <td>0.0</td>\n",
              "      <td>0.0</td>\n",
              "      <td>...</td>\n",
              "      <td>0.0</td>\n",
              "      <td>0.0</td>\n",
              "      <td>0.0</td>\n",
              "      <td>0.0</td>\n",
              "      <td>0.0</td>\n",
              "      <td>0.0</td>\n",
              "      <td>-7536.621200</td>\n",
              "      <td>4.864934e+06</td>\n",
              "      <td>2</td>\n",
              "      <td>1</td>\n",
              "    </tr>\n",
              "    <tr>\n",
              "      <th>2</th>\n",
              "      <td>0.0</td>\n",
              "      <td>0.0</td>\n",
              "      <td>0.0</td>\n",
              "      <td>0.0</td>\n",
              "      <td>0.0</td>\n",
              "      <td>0.0</td>\n",
              "      <td>0.0</td>\n",
              "      <td>0.300481</td>\n",
              "      <td>0.0</td>\n",
              "      <td>0.0</td>\n",
              "      <td>...</td>\n",
              "      <td>0.0</td>\n",
              "      <td>0.0</td>\n",
              "      <td>0.0</td>\n",
              "      <td>0.0</td>\n",
              "      <td>0.0</td>\n",
              "      <td>0.0</td>\n",
              "      <td>-7519.152400</td>\n",
              "      <td>4.864950e+06</td>\n",
              "      <td>2</td>\n",
              "      <td>1</td>\n",
              "    </tr>\n",
              "    <tr>\n",
              "      <th>3</th>\n",
              "      <td>0.0</td>\n",
              "      <td>0.0</td>\n",
              "      <td>0.0</td>\n",
              "      <td>0.0</td>\n",
              "      <td>0.0</td>\n",
              "      <td>0.0</td>\n",
              "      <td>0.0</td>\n",
              "      <td>0.000000</td>\n",
              "      <td>0.0</td>\n",
              "      <td>0.0</td>\n",
              "      <td>...</td>\n",
              "      <td>0.0</td>\n",
              "      <td>0.0</td>\n",
              "      <td>0.0</td>\n",
              "      <td>0.0</td>\n",
              "      <td>0.0</td>\n",
              "      <td>0.0</td>\n",
              "      <td>-7524.570400</td>\n",
              "      <td>4.864934e+06</td>\n",
              "      <td>2</td>\n",
              "      <td>1</td>\n",
              "    </tr>\n",
              "    <tr>\n",
              "      <th>4</th>\n",
              "      <td>0.0</td>\n",
              "      <td>0.0</td>\n",
              "      <td>0.0</td>\n",
              "      <td>0.0</td>\n",
              "      <td>0.0</td>\n",
              "      <td>0.0</td>\n",
              "      <td>0.0</td>\n",
              "      <td>0.000000</td>\n",
              "      <td>0.0</td>\n",
              "      <td>0.0</td>\n",
              "      <td>...</td>\n",
              "      <td>0.0</td>\n",
              "      <td>0.0</td>\n",
              "      <td>0.0</td>\n",
              "      <td>0.0</td>\n",
              "      <td>0.0</td>\n",
              "      <td>0.0</td>\n",
              "      <td>-7632.143600</td>\n",
              "      <td>4.864982e+06</td>\n",
              "      <td>0</td>\n",
              "      <td>0</td>\n",
              "    </tr>\n",
              "    <tr>\n",
              "      <th>...</th>\n",
              "      <td>...</td>\n",
              "      <td>...</td>\n",
              "      <td>...</td>\n",
              "      <td>...</td>\n",
              "      <td>...</td>\n",
              "      <td>...</td>\n",
              "      <td>...</td>\n",
              "      <td>...</td>\n",
              "      <td>...</td>\n",
              "      <td>...</td>\n",
              "      <td>...</td>\n",
              "      <td>...</td>\n",
              "      <td>...</td>\n",
              "      <td>...</td>\n",
              "      <td>...</td>\n",
              "      <td>...</td>\n",
              "      <td>...</td>\n",
              "      <td>...</td>\n",
              "      <td>...</td>\n",
              "      <td>...</td>\n",
              "      <td>...</td>\n",
              "    </tr>\n",
              "    <tr>\n",
              "      <th>1106</th>\n",
              "      <td>0.0</td>\n",
              "      <td>0.0</td>\n",
              "      <td>0.0</td>\n",
              "      <td>0.0</td>\n",
              "      <td>0.0</td>\n",
              "      <td>0.0</td>\n",
              "      <td>0.0</td>\n",
              "      <td>0.000000</td>\n",
              "      <td>0.0</td>\n",
              "      <td>0.0</td>\n",
              "      <td>...</td>\n",
              "      <td>0.0</td>\n",
              "      <td>0.0</td>\n",
              "      <td>0.0</td>\n",
              "      <td>0.0</td>\n",
              "      <td>0.0</td>\n",
              "      <td>0.0</td>\n",
              "      <td>-7317.344231</td>\n",
              "      <td>4.864796e+06</td>\n",
              "      <td>3</td>\n",
              "      <td>2</td>\n",
              "    </tr>\n",
              "    <tr>\n",
              "      <th>1107</th>\n",
              "      <td>0.0</td>\n",
              "      <td>0.0</td>\n",
              "      <td>0.0</td>\n",
              "      <td>0.0</td>\n",
              "      <td>0.0</td>\n",
              "      <td>0.0</td>\n",
              "      <td>0.0</td>\n",
              "      <td>0.000000</td>\n",
              "      <td>0.0</td>\n",
              "      <td>0.0</td>\n",
              "      <td>...</td>\n",
              "      <td>0.0</td>\n",
              "      <td>0.0</td>\n",
              "      <td>0.0</td>\n",
              "      <td>0.0</td>\n",
              "      <td>0.0</td>\n",
              "      <td>0.0</td>\n",
              "      <td>-7313.731120</td>\n",
              "      <td>4.864792e+06</td>\n",
              "      <td>3</td>\n",
              "      <td>2</td>\n",
              "    </tr>\n",
              "    <tr>\n",
              "      <th>1108</th>\n",
              "      <td>0.0</td>\n",
              "      <td>0.0</td>\n",
              "      <td>0.0</td>\n",
              "      <td>0.0</td>\n",
              "      <td>0.0</td>\n",
              "      <td>0.0</td>\n",
              "      <td>0.0</td>\n",
              "      <td>0.000000</td>\n",
              "      <td>0.0</td>\n",
              "      <td>0.0</td>\n",
              "      <td>...</td>\n",
              "      <td>0.0</td>\n",
              "      <td>0.0</td>\n",
              "      <td>0.0</td>\n",
              "      <td>0.0</td>\n",
              "      <td>0.0</td>\n",
              "      <td>0.0</td>\n",
              "      <td>-7637.535798</td>\n",
              "      <td>4.864903e+06</td>\n",
              "      <td>0</td>\n",
              "      <td>0</td>\n",
              "    </tr>\n",
              "    <tr>\n",
              "      <th>1109</th>\n",
              "      <td>0.0</td>\n",
              "      <td>0.0</td>\n",
              "      <td>0.0</td>\n",
              "      <td>0.0</td>\n",
              "      <td>0.0</td>\n",
              "      <td>0.0</td>\n",
              "      <td>0.0</td>\n",
              "      <td>0.000000</td>\n",
              "      <td>0.0</td>\n",
              "      <td>0.0</td>\n",
              "      <td>...</td>\n",
              "      <td>0.0</td>\n",
              "      <td>0.0</td>\n",
              "      <td>0.0</td>\n",
              "      <td>0.0</td>\n",
              "      <td>0.0</td>\n",
              "      <td>0.0</td>\n",
              "      <td>-7636.654005</td>\n",
              "      <td>4.864905e+06</td>\n",
              "      <td>0</td>\n",
              "      <td>0</td>\n",
              "    </tr>\n",
              "    <tr>\n",
              "      <th>1110</th>\n",
              "      <td>0.0</td>\n",
              "      <td>0.0</td>\n",
              "      <td>0.0</td>\n",
              "      <td>0.0</td>\n",
              "      <td>0.0</td>\n",
              "      <td>0.0</td>\n",
              "      <td>0.0</td>\n",
              "      <td>0.000000</td>\n",
              "      <td>0.0</td>\n",
              "      <td>0.0</td>\n",
              "      <td>...</td>\n",
              "      <td>0.0</td>\n",
              "      <td>0.0</td>\n",
              "      <td>0.0</td>\n",
              "      <td>0.0</td>\n",
              "      <td>0.0</td>\n",
              "      <td>0.0</td>\n",
              "      <td>-7637.944120</td>\n",
              "      <td>4.864904e+06</td>\n",
              "      <td>0</td>\n",
              "      <td>0</td>\n",
              "    </tr>\n",
              "  </tbody>\n",
              "</table>\n",
              "<p>21048 rows × 524 columns</p>\n",
              "</div>\n",
              "    <div class=\"colab-df-buttons\">\n",
              "\n",
              "  <div class=\"colab-df-container\">\n",
              "    <button class=\"colab-df-convert\" onclick=\"convertToInteractive('df-868894a0-18ad-4747-952b-aa341420b027')\"\n",
              "            title=\"Convert this dataframe to an interactive table.\"\n",
              "            style=\"display:none;\">\n",
              "\n",
              "  <svg xmlns=\"http://www.w3.org/2000/svg\" height=\"24px\" viewBox=\"0 -960 960 960\">\n",
              "    <path d=\"M120-120v-720h720v720H120Zm60-500h600v-160H180v160Zm220 220h160v-160H400v160Zm0 220h160v-160H400v160ZM180-400h160v-160H180v160Zm440 0h160v-160H620v160ZM180-180h160v-160H180v160Zm440 0h160v-160H620v160Z\"/>\n",
              "  </svg>\n",
              "    </button>\n",
              "\n",
              "  <style>\n",
              "    .colab-df-container {\n",
              "      display:flex;\n",
              "      gap: 12px;\n",
              "    }\n",
              "\n",
              "    .colab-df-convert {\n",
              "      background-color: #E8F0FE;\n",
              "      border: none;\n",
              "      border-radius: 50%;\n",
              "      cursor: pointer;\n",
              "      display: none;\n",
              "      fill: #1967D2;\n",
              "      height: 32px;\n",
              "      padding: 0 0 0 0;\n",
              "      width: 32px;\n",
              "    }\n",
              "\n",
              "    .colab-df-convert:hover {\n",
              "      background-color: #E2EBFA;\n",
              "      box-shadow: 0px 1px 2px rgba(60, 64, 67, 0.3), 0px 1px 3px 1px rgba(60, 64, 67, 0.15);\n",
              "      fill: #174EA6;\n",
              "    }\n",
              "\n",
              "    .colab-df-buttons div {\n",
              "      margin-bottom: 4px;\n",
              "    }\n",
              "\n",
              "    [theme=dark] .colab-df-convert {\n",
              "      background-color: #3B4455;\n",
              "      fill: #D2E3FC;\n",
              "    }\n",
              "\n",
              "    [theme=dark] .colab-df-convert:hover {\n",
              "      background-color: #434B5C;\n",
              "      box-shadow: 0px 1px 3px 1px rgba(0, 0, 0, 0.15);\n",
              "      filter: drop-shadow(0px 1px 2px rgba(0, 0, 0, 0.3));\n",
              "      fill: #FFFFFF;\n",
              "    }\n",
              "  </style>\n",
              "\n",
              "    <script>\n",
              "      const buttonEl =\n",
              "        document.querySelector('#df-868894a0-18ad-4747-952b-aa341420b027 button.colab-df-convert');\n",
              "      buttonEl.style.display =\n",
              "        google.colab.kernel.accessAllowed ? 'block' : 'none';\n",
              "\n",
              "      async function convertToInteractive(key) {\n",
              "        const element = document.querySelector('#df-868894a0-18ad-4747-952b-aa341420b027');\n",
              "        const dataTable =\n",
              "          await google.colab.kernel.invokeFunction('convertToInteractive',\n",
              "                                                    [key], {});\n",
              "        if (!dataTable) return;\n",
              "\n",
              "        const docLinkHtml = 'Like what you see? Visit the ' +\n",
              "          '<a target=\"_blank\" href=https://colab.research.google.com/notebooks/data_table.ipynb>data table notebook</a>'\n",
              "          + ' to learn more about interactive tables.';\n",
              "        element.innerHTML = '';\n",
              "        dataTable['output_type'] = 'display_data';\n",
              "        await google.colab.output.renderOutput(dataTable, element);\n",
              "        const docLink = document.createElement('div');\n",
              "        docLink.innerHTML = docLinkHtml;\n",
              "        element.appendChild(docLink);\n",
              "      }\n",
              "    </script>\n",
              "  </div>\n",
              "\n",
              "\n",
              "<div id=\"df-eef1a4dc-c049-4c74-a719-9d6340c9cc19\">\n",
              "  <button class=\"colab-df-quickchart\" onclick=\"quickchart('df-eef1a4dc-c049-4c74-a719-9d6340c9cc19')\"\n",
              "            title=\"Suggest charts.\"\n",
              "            style=\"display:none;\">\n",
              "\n",
              "<svg xmlns=\"http://www.w3.org/2000/svg\" height=\"24px\"viewBox=\"0 0 24 24\"\n",
              "     width=\"24px\">\n",
              "    <g>\n",
              "        <path d=\"M19 3H5c-1.1 0-2 .9-2 2v14c0 1.1.9 2 2 2h14c1.1 0 2-.9 2-2V5c0-1.1-.9-2-2-2zM9 17H7v-7h2v7zm4 0h-2V7h2v10zm4 0h-2v-4h2v4z\"/>\n",
              "    </g>\n",
              "</svg>\n",
              "  </button>\n",
              "\n",
              "<style>\n",
              "  .colab-df-quickchart {\n",
              "      --bg-color: #E8F0FE;\n",
              "      --fill-color: #1967D2;\n",
              "      --hover-bg-color: #E2EBFA;\n",
              "      --hover-fill-color: #174EA6;\n",
              "      --disabled-fill-color: #AAA;\n",
              "      --disabled-bg-color: #DDD;\n",
              "  }\n",
              "\n",
              "  [theme=dark] .colab-df-quickchart {\n",
              "      --bg-color: #3B4455;\n",
              "      --fill-color: #D2E3FC;\n",
              "      --hover-bg-color: #434B5C;\n",
              "      --hover-fill-color: #FFFFFF;\n",
              "      --disabled-bg-color: #3B4455;\n",
              "      --disabled-fill-color: #666;\n",
              "  }\n",
              "\n",
              "  .colab-df-quickchart {\n",
              "    background-color: var(--bg-color);\n",
              "    border: none;\n",
              "    border-radius: 50%;\n",
              "    cursor: pointer;\n",
              "    display: none;\n",
              "    fill: var(--fill-color);\n",
              "    height: 32px;\n",
              "    padding: 0;\n",
              "    width: 32px;\n",
              "  }\n",
              "\n",
              "  .colab-df-quickchart:hover {\n",
              "    background-color: var(--hover-bg-color);\n",
              "    box-shadow: 0 1px 2px rgba(60, 64, 67, 0.3), 0 1px 3px 1px rgba(60, 64, 67, 0.15);\n",
              "    fill: var(--button-hover-fill-color);\n",
              "  }\n",
              "\n",
              "  .colab-df-quickchart-complete:disabled,\n",
              "  .colab-df-quickchart-complete:disabled:hover {\n",
              "    background-color: var(--disabled-bg-color);\n",
              "    fill: var(--disabled-fill-color);\n",
              "    box-shadow: none;\n",
              "  }\n",
              "\n",
              "  .colab-df-spinner {\n",
              "    border: 2px solid var(--fill-color);\n",
              "    border-color: transparent;\n",
              "    border-bottom-color: var(--fill-color);\n",
              "    animation:\n",
              "      spin 1s steps(1) infinite;\n",
              "  }\n",
              "\n",
              "  @keyframes spin {\n",
              "    0% {\n",
              "      border-color: transparent;\n",
              "      border-bottom-color: var(--fill-color);\n",
              "      border-left-color: var(--fill-color);\n",
              "    }\n",
              "    20% {\n",
              "      border-color: transparent;\n",
              "      border-left-color: var(--fill-color);\n",
              "      border-top-color: var(--fill-color);\n",
              "    }\n",
              "    30% {\n",
              "      border-color: transparent;\n",
              "      border-left-color: var(--fill-color);\n",
              "      border-top-color: var(--fill-color);\n",
              "      border-right-color: var(--fill-color);\n",
              "    }\n",
              "    40% {\n",
              "      border-color: transparent;\n",
              "      border-right-color: var(--fill-color);\n",
              "      border-top-color: var(--fill-color);\n",
              "    }\n",
              "    60% {\n",
              "      border-color: transparent;\n",
              "      border-right-color: var(--fill-color);\n",
              "    }\n",
              "    80% {\n",
              "      border-color: transparent;\n",
              "      border-right-color: var(--fill-color);\n",
              "      border-bottom-color: var(--fill-color);\n",
              "    }\n",
              "    90% {\n",
              "      border-color: transparent;\n",
              "      border-bottom-color: var(--fill-color);\n",
              "    }\n",
              "  }\n",
              "</style>\n",
              "\n",
              "  <script>\n",
              "    async function quickchart(key) {\n",
              "      const quickchartButtonEl =\n",
              "        document.querySelector('#' + key + ' button');\n",
              "      quickchartButtonEl.disabled = true;  // To prevent multiple clicks.\n",
              "      quickchartButtonEl.classList.add('colab-df-spinner');\n",
              "      try {\n",
              "        const charts = await google.colab.kernel.invokeFunction(\n",
              "            'suggestCharts', [key], {});\n",
              "      } catch (error) {\n",
              "        console.error('Error during call to suggestCharts:', error);\n",
              "      }\n",
              "      quickchartButtonEl.classList.remove('colab-df-spinner');\n",
              "      quickchartButtonEl.classList.add('colab-df-quickchart-complete');\n",
              "    }\n",
              "    (() => {\n",
              "      let quickchartButtonEl =\n",
              "        document.querySelector('#df-eef1a4dc-c049-4c74-a719-9d6340c9cc19 button');\n",
              "      quickchartButtonEl.style.display =\n",
              "        google.colab.kernel.accessAllowed ? 'block' : 'none';\n",
              "    })();\n",
              "  </script>\n",
              "</div>\n",
              "    </div>\n",
              "  </div>\n"
            ]
          },
          "metadata": {},
          "execution_count": 13
        }
      ],
      "source": [
        "new_data"
      ]
    },
    {
      "cell_type": "markdown",
      "source": [
        "Latitude and Longitude values are normalized between 0 and 1."
      ],
      "metadata": {
        "id": "lewK_Q0pCC7G"
      }
    },
    {
      "cell_type": "code",
      "execution_count": null,
      "metadata": {
        "id": "jeFOK3hFMKJe"
      },
      "outputs": [],
      "source": [
        "lat_min = 4864745.7450159714\n",
        "lat_max = 4865017.3646842018\n",
        "tarmin = 0\n",
        "tarmax = 1\n",
        "def normalize_lat(num):\n",
        "    num = float(num)\n",
        "    ans = normalize(num, lat_min, lat_max, tarmin, tarmax)\n",
        "    return ans"
      ]
    },
    {
      "cell_type": "code",
      "execution_count": null,
      "metadata": {
        "id": "1C37YGedMRhh"
      },
      "outputs": [],
      "source": [
        "long_min = -7695.9387549299299000\n",
        "long_max = -7299.786516730871000\n",
        "tarmin = 0\n",
        "tarmax = 1\n",
        "def normalize_long(num):\n",
        "    num = float(num)\n",
        "    ans = normalize(num, long_min, long_max, tarmin, tarmax)\n",
        "    return ans"
      ]
    },
    {
      "cell_type": "code",
      "execution_count": null,
      "metadata": {
        "id": "yKXJ_t5iMTVv"
      },
      "outputs": [],
      "source": [
        "new_data[\"LATITUDE\"] = new_data[\"LATITUDE\"].apply(normalize_lat)\n",
        "new_data[\"LONGITUDE\"] = new_data[\"LONGITUDE\"].apply(normalize_long)\n"
      ]
    },
    {
      "cell_type": "markdown",
      "source": [
        "### **SPLITTING THE DATA**"
      ],
      "metadata": {
        "id": "xjIbY4ClCRq1"
      }
    },
    {
      "cell_type": "markdown",
      "source": [
        "Splitting the dataset with test size as 15% of training."
      ],
      "metadata": {
        "id": "QZM9eVkRCbCz"
      }
    },
    {
      "cell_type": "code",
      "execution_count": null,
      "metadata": {
        "id": "1IFD9aGROIFx"
      },
      "outputs": [],
      "source": [
        "x = new_data[RSSI_data]\n",
        "y = new_data[[\"LATITUDE\", \"LONGITUDE\", \"BUILDINGID\", \"FLOOR\"]]"
      ]
    },
    {
      "cell_type": "code",
      "execution_count": null,
      "metadata": {
        "id": "amTHlH-0PCFF"
      },
      "outputs": [],
      "source": [
        "x_train, x_test, y_train, y_test = train_test_split(x, y, random_state=42, test_size=0.15)"
      ]
    },
    {
      "cell_type": "markdown",
      "source": [
        "### **MODELS**"
      ],
      "metadata": {
        "id": "rDqO96xHCwYc"
      }
    },
    {
      "cell_type": "markdown",
      "source": [
        "### Simple Neural Network as a sequential model.\n",
        "\n",
        "Here we have Input layer followed by Dense layer and Output layer.We defined a series of fully connected (Dense) layers with varying numbers of units (neurons) and ReLU (Rectified Linear Unit) activation functions. The model is compiled using the 'adam' optimizer, which is a popular choice for training deep neural networks. The loss function is set to \"mse\" (Mean Squared Error) and additionally, it tracks the \"accuracy\" in each epoch."
      ],
      "metadata": {
        "id": "vuMetMh_Czro"
      }
    },
    {
      "cell_type": "code",
      "execution_count": null,
      "metadata": {
        "id": "QyNZEi5nPWms"
      },
      "outputs": [],
      "source": [
        "model = Sequential()\n",
        "model.add(layers.Dense(519, activation=\"relu\"))\n",
        "model.add(layers.Dense(300, activation=\"relu\"))\n",
        "model.add(layers.Dense(100, activation=\"relu\"))\n",
        "model.add(layers.Dense(4, activation=\"linear\"))\n",
        "model.compile(optimizer='adam',\n",
        "                loss=\"mse\", metrics=['accuracy'])"
      ]
    },
    {
      "cell_type": "markdown",
      "metadata": {
        "id": "iSxaMen0FBrA"
      },
      "source": [
        "Fitting the model with validation split set of 20% and also visualising the accuracy and loss of the model."
      ]
    },
    {
      "cell_type": "code",
      "execution_count": null,
      "metadata": {
        "colab": {
          "base_uri": "https://localhost:8080/"
        },
        "id": "KouahpxFPcAd",
        "outputId": "13eda51e-9fa0-4adf-d301-2abd15168621"
      },
      "outputs": [
        {
          "output_type": "stream",
          "name": "stdout",
          "text": [
            "Epoch 1/10\n",
            "144/144 [==============================] - 3s 13ms/step - loss: 0.1351 - accuracy: 0.8598 - val_loss: 0.0210 - val_accuracy: 0.9131\n",
            "Epoch 2/10\n",
            "144/144 [==============================] - 2s 12ms/step - loss: 0.0166 - accuracy: 0.9069 - val_loss: 0.0161 - val_accuracy: 0.9354\n",
            "Epoch 3/10\n",
            "144/144 [==============================] - 2s 12ms/step - loss: 0.0120 - accuracy: 0.9076 - val_loss: 0.0128 - val_accuracy: 0.9203\n",
            "Epoch 4/10\n",
            "144/144 [==============================] - 3s 19ms/step - loss: 0.0094 - accuracy: 0.9083 - val_loss: 0.0128 - val_accuracy: 0.9433\n",
            "Epoch 5/10\n",
            "144/144 [==============================] - 3s 19ms/step - loss: 0.0086 - accuracy: 0.9099 - val_loss: 0.0095 - val_accuracy: 0.9027\n",
            "Epoch 6/10\n",
            "144/144 [==============================] - 2s 13ms/step - loss: 0.0070 - accuracy: 0.9115 - val_loss: 0.0094 - val_accuracy: 0.9198\n",
            "Epoch 7/10\n",
            "144/144 [==============================] - 2s 13ms/step - loss: 0.0065 - accuracy: 0.9128 - val_loss: 0.0090 - val_accuracy: 0.9290\n",
            "Epoch 8/10\n",
            "144/144 [==============================] - 2s 13ms/step - loss: 0.0059 - accuracy: 0.9156 - val_loss: 0.0090 - val_accuracy: 0.8723\n",
            "Epoch 9/10\n",
            "144/144 [==============================] - 2s 13ms/step - loss: 0.0057 - accuracy: 0.9140 - val_loss: 0.0088 - val_accuracy: 0.8561\n",
            "Epoch 10/10\n",
            "144/144 [==============================] - 2s 13ms/step - loss: 0.0055 - accuracy: 0.9160 - val_loss: 0.0079 - val_accuracy: 0.9349\n"
          ]
        },
        {
          "output_type": "execute_result",
          "data": {
            "text/plain": [
              "<keras.src.callbacks.History at 0x79627564f280>"
            ]
          },
          "metadata": {},
          "execution_count": 20
        }
      ],
      "source": [
        "model.fit(x_train,y_train,epochs=10,batch_size=100, validation_split=0.2)"
      ]
    },
    {
      "cell_type": "markdown",
      "source": [
        "Making prediction on unseen data"
      ],
      "metadata": {
        "id": "ypxRMql0Dlvy"
      }
    },
    {
      "cell_type": "code",
      "execution_count": null,
      "metadata": {
        "colab": {
          "base_uri": "https://localhost:8080/"
        },
        "id": "anCyG2QrPeS3",
        "outputId": "fe0d25fd-6ebe-404a-88c3-c3320110c704"
      },
      "outputs": [
        {
          "output_type": "stream",
          "name": "stdout",
          "text": [
            "99/99 [==============================] - 1s 4ms/step\n"
          ]
        }
      ],
      "source": [
        "y_pred=model.predict(x_test)"
      ]
    },
    {
      "cell_type": "markdown",
      "source": [
        "Getting performance score on the unseen data and checking how weel the model fits to the real problem."
      ],
      "metadata": {
        "id": "oGFYeo8EDtoQ"
      }
    },
    {
      "cell_type": "code",
      "execution_count": null,
      "metadata": {
        "colab": {
          "base_uri": "https://localhost:8080/"
        },
        "id": "mfwrG04mQrIW",
        "outputId": "3611120d-3555-48bd-9700-cc955956fd12"
      },
      "outputs": [
        {
          "output_type": "stream",
          "name": "stdout",
          "text": [
            "Mean Absolute Error: 0.044734374382245964\n",
            "Mean Squared Error: 0.008531157817466987\n",
            "Root Mean Squared Error: 0.09236426699469329\n",
            "R-squared (R²): 0.9866723165725572\n"
          ]
        }
      ],
      "source": [
        "# Calculate regression metrics\n",
        "mae = mean_absolute_error(y_test, y_pred)\n",
        "mse = mean_squared_error(y_test, y_pred)\n",
        "rmse = np.sqrt(mse)\n",
        "r2 = r2_score(y_test, y_pred)\n",
        "\n",
        "print(\"Mean Absolute Error:\", mae)\n",
        "print(\"Mean Squared Error:\", mse)\n",
        "print(\"Root Mean Squared Error:\", rmse)\n",
        "print(\"R-squared (R²):\", r2)"
      ]
    },
    {
      "cell_type": "markdown",
      "source": [
        "### Convolution Neural Network(CNN) model\n",
        "\n",
        "Convolution Neural Network(CNN) model using Sequential API:\n",
        "Here we have input layer implicitly defined with an input_shape of (520, 1) followed by Convolutional Layers contains three 1D convolutional layers and max-pooling layers.\n",
        "Flatten Layer: added to transform the 3D output into a 1D vector. Dense layers are fully connected and intended for feature processing and representation.\n",
        "Then we have output layer with same compiler.\n",
        "\n",
        "In convolution layer we extract features based on the filters this results in high dim output so to reduce it we use Maxpool/avgpool. THis two are feature extraction part. Passing this to fully connected dense layer where each neuron is connected to each other.\n"
      ],
      "metadata": {
        "id": "B45uOcRnEWma"
      }
    },
    {
      "cell_type": "code",
      "execution_count": null,
      "metadata": {
        "id": "-A05F9yYQy6H"
      },
      "outputs": [],
      "source": [
        "modelCNN = Sequential()\n",
        "\n",
        "# Convolutional layers\n",
        "modelCNN.add(Conv1D(filters=64, kernel_size=5, activation='relu', input_shape=(520, 1)))\n",
        "modelCNN.add(MaxPooling1D(pool_size=2))\n",
        "modelCNN.add(Conv1D(filters=128, kernel_size=5, activation='relu'))\n",
        "modelCNN.add(MaxPooling1D(pool_size=2))\n",
        "modelCNN.add(Conv1D(filters=256, kernel_size=3, activation='relu'))\n",
        "modelCNN.add(MaxPooling1D(pool_size=2))\n",
        "\n",
        "# Flatten the output for dense layers. Transforming the 3D tensor to 1D.\n",
        "modelCNN.add(Flatten())\n",
        "\n",
        "# Dense layers\n",
        "modelCNN.add(Dense(512, activation='relu'))\n",
        "modelCNN.add(Dense(256, activation='relu'))\n",
        "modelCNN.add(Dense(128, activation='relu'))\n",
        "modelCNN.add(Dense(4, activation='linear'))\n",
        "modelCNN.compile(optimizer='adam', loss='mae', metrics=['accuracy'])"
      ]
    },
    {
      "cell_type": "markdown",
      "source": [
        "Fitting the model with validation split set of 20% and also visualising the accuracy and loss of the model."
      ],
      "metadata": {
        "id": "rpfjrljTEmmU"
      }
    },
    {
      "cell_type": "code",
      "execution_count": null,
      "metadata": {
        "colab": {
          "base_uri": "https://localhost:8080/"
        },
        "id": "rg2GiT6NU4xv",
        "outputId": "8e79b90d-9c92-4112-f02d-5280a55bc007"
      },
      "outputs": [
        {
          "output_type": "stream",
          "name": "stdout",
          "text": [
            "Epoch 1/10\n",
            "72/72 [==============================] - 88s 1s/step - loss: 0.2283 - accuracy: 0.7902 - val_loss: 0.1134 - val_accuracy: 0.9050\n",
            "Epoch 2/10\n",
            "72/72 [==============================] - 81s 1s/step - loss: 0.0917 - accuracy: 0.9080 - val_loss: 0.0707 - val_accuracy: 0.8846\n",
            "Epoch 3/10\n",
            "72/72 [==============================] - 82s 1s/step - loss: 0.0737 - accuracy: 0.9078 - val_loss: 0.0648 - val_accuracy: 0.8958\n",
            "Epoch 4/10\n",
            "72/72 [==============================] - 81s 1s/step - loss: 0.0569 - accuracy: 0.9106 - val_loss: 0.0526 - val_accuracy: 0.8985\n",
            "Epoch 5/10\n",
            "72/72 [==============================] - 81s 1s/step - loss: 0.0473 - accuracy: 0.9114 - val_loss: 0.0550 - val_accuracy: 0.8765\n",
            "Epoch 6/10\n",
            "72/72 [==============================] - 82s 1s/step - loss: 0.0514 - accuracy: 0.9090 - val_loss: 0.0603 - val_accuracy: 0.9167\n",
            "Epoch 7/10\n",
            "72/72 [==============================] - 87s 1s/step - loss: 0.0472 - accuracy: 0.9092 - val_loss: 0.0501 - val_accuracy: 0.8642\n",
            "Epoch 8/10\n",
            "72/72 [==============================] - 82s 1s/step - loss: 0.0354 - accuracy: 0.9113 - val_loss: 0.0419 - val_accuracy: 0.8854\n",
            "Epoch 9/10\n",
            "72/72 [==============================] - 84s 1s/step - loss: 0.0360 - accuracy: 0.9131 - val_loss: 0.0414 - val_accuracy: 0.8591\n",
            "Epoch 10/10\n",
            "72/72 [==============================] - 88s 1s/step - loss: 0.0358 - accuracy: 0.9119 - val_loss: 0.0309 - val_accuracy: 0.8944\n"
          ]
        },
        {
          "output_type": "execute_result",
          "data": {
            "text/plain": [
              "<keras.src.callbacks.History at 0x796268ef9f00>"
            ]
          },
          "metadata": {},
          "execution_count": 24
        }
      ],
      "source": [
        "modelCNN.fit(x_train,y_train,epochs=10,batch_size=200, validation_split=0.2)"
      ]
    },
    {
      "cell_type": "markdown",
      "source": [
        "Making prediction on unseen data."
      ],
      "metadata": {
        "id": "yQbcuUymFjVT"
      }
    },
    {
      "cell_type": "code",
      "execution_count": null,
      "metadata": {
        "colab": {
          "base_uri": "https://localhost:8080/"
        },
        "id": "flALCKYjVNyR",
        "outputId": "759f9f65-6ec9-4d7e-da84-6bba5c96e043"
      },
      "outputs": [
        {
          "output_type": "stream",
          "name": "stdout",
          "text": [
            "99/99 [==============================] - 5s 45ms/step\n"
          ]
        }
      ],
      "source": [
        "y_pred2=modelCNN.predict(x_test)"
      ]
    },
    {
      "cell_type": "code",
      "execution_count": null,
      "metadata": {
        "colab": {
          "base_uri": "https://localhost:8080/"
        },
        "id": "DrIi2UtQYF51",
        "outputId": "62216398-e2be-45e7-8cf6-bd8a430fd8ce"
      },
      "outputs": [
        {
          "output_type": "stream",
          "name": "stdout",
          "text": [
            "Mean Absolute Error: 0.031219793235714728\n",
            "Mean Squared Error: 0.006939232129653077\n",
            "Root Mean Squared Error: 0.09236426699469329\n",
            "R-squared (R²): 0.9907725040186133\n"
          ]
        }
      ],
      "source": [
        "# Calculate regression metrics\n",
        "mae2 = mean_absolute_error(y_test, y_pred2)\n",
        "mse2 = mean_squared_error(y_test, y_pred2)\n",
        "rmse2 = np.sqrt(mse)\n",
        "r22 = r2_score(y_test, y_pred2)\n",
        "\n",
        "print(\"Mean Absolute Error:\", mae2)\n",
        "print(\"Mean Squared Error:\", mse2)\n",
        "print(\"Root Mean Squared Error:\", rmse2)\n",
        "print(\"R-squared (R²):\", r22)"
      ]
    },
    {
      "cell_type": "markdown",
      "source": [
        "### CNN Model with less complex strucuture\n",
        "\n",
        "\n",
        "The  input layer implicitly defined with an input_shape of (520, 1) followed by Convolutional Layers contains two 1D convolutional layers and max-pooling layers.\n",
        "Flatten Layer: added to transform the 3D output into a 1D vector. Dense layers are fully connected and intended for feature processing and representation.\n",
        "Then we have output layer with same compiler.\n",
        "\n",
        "In convolution layer we extract features based on the filters this results in high dim output so to reduce it we use Maxpool/avgpool. THis two are feature extraction part. Passing this to fully connected dense layer where each neuron is connected to each other.\n"
      ],
      "metadata": {
        "id": "7eFeqIguI_Ys"
      }
    },
    {
      "cell_type": "code",
      "source": [
        "modelCN = Sequential()\n",
        "\n",
        "# Convolutional layers\n",
        "modelCN.add(Conv1D(filters=64, kernel_size=5, activation='relu', input_shape=(520, 1)))\n",
        "modelCN.add(MaxPooling1D(pool_size=2))\n",
        "modelCN.add(Conv1D(filters=128, kernel_size=5, activation='relu'))\n",
        "modelCN.add(MaxPooling1D(pool_size=2))\n",
        "\n",
        "# Flatten the output for dense layers. Transforming the 3D tensor to 1D.\n",
        "modelCN.add(Flatten())\n",
        "\n",
        "# Dense layers\n",
        "\n",
        "modelCN.add(Dense(128, activation='relu'))\n",
        "modelCN.add(Dense(4, activation='linear'))\n",
        "modelCN.compile(optimizer='adam', loss='mae', metrics=['accuracy'])"
      ],
      "metadata": {
        "id": "3gWud_kMI_ra"
      },
      "execution_count": null,
      "outputs": []
    },
    {
      "cell_type": "code",
      "source": [
        "modelCN.fit(x_train,y_train,epochs=10,batch_size=200, validation_split=0.2)"
      ],
      "metadata": {
        "colab": {
          "base_uri": "https://localhost:8080/"
        },
        "id": "zEIf8ns9JTv2",
        "outputId": "9a3110b2-8b06-4678-ee59-594c1de0d46b"
      },
      "execution_count": null,
      "outputs": [
        {
          "output_type": "stream",
          "name": "stdout",
          "text": [
            "Epoch 1/10\n",
            "72/72 [==============================] - 52s 700ms/step - loss: 0.2467 - accuracy: 0.7927 - val_loss: 0.1236 - val_accuracy: 0.8689\n",
            "Epoch 2/10\n",
            "72/72 [==============================] - 41s 571ms/step - loss: 0.1138 - accuracy: 0.8839 - val_loss: 0.1025 - val_accuracy: 0.8980\n",
            "Epoch 3/10\n",
            "72/72 [==============================] - 39s 536ms/step - loss: 0.0959 - accuracy: 0.8923 - val_loss: 0.0924 - val_accuracy: 0.8818\n",
            "Epoch 4/10\n",
            "72/72 [==============================] - 40s 553ms/step - loss: 0.0870 - accuracy: 0.8976 - val_loss: 0.0778 - val_accuracy: 0.8876\n",
            "Epoch 5/10\n",
            "72/72 [==============================] - 40s 560ms/step - loss: 0.0746 - accuracy: 0.9009 - val_loss: 0.0726 - val_accuracy: 0.9240\n",
            "Epoch 6/10\n",
            "72/72 [==============================] - 39s 546ms/step - loss: 0.0698 - accuracy: 0.9054 - val_loss: 0.0712 - val_accuracy: 0.8698\n",
            "Epoch 7/10\n",
            "72/72 [==============================] - 38s 527ms/step - loss: 0.0698 - accuracy: 0.9046 - val_loss: 0.0750 - val_accuracy: 0.9053\n",
            "Epoch 8/10\n",
            "72/72 [==============================] - 39s 540ms/step - loss: 0.0611 - accuracy: 0.9041 - val_loss: 0.0665 - val_accuracy: 0.9128\n",
            "Epoch 9/10\n",
            "72/72 [==============================] - 40s 555ms/step - loss: 0.0580 - accuracy: 0.9065 - val_loss: 0.0612 - val_accuracy: 0.9234\n",
            "Epoch 10/10\n",
            "72/72 [==============================] - 37s 521ms/step - loss: 0.0589 - accuracy: 0.9053 - val_loss: 0.0564 - val_accuracy: 0.8890\n"
          ]
        },
        {
          "output_type": "execute_result",
          "data": {
            "text/plain": [
              "<keras.src.callbacks.History at 0x79626a82ce20>"
            ]
          },
          "metadata": {},
          "execution_count": 28
        }
      ]
    },
    {
      "cell_type": "code",
      "source": [
        "y_predCN=modelCN.predict(x_test)"
      ],
      "metadata": {
        "colab": {
          "base_uri": "https://localhost:8080/"
        },
        "id": "8LYUDXfNJcDY",
        "outputId": "8163b9ae-1a12-4504-acc4-9b84c45cac20"
      },
      "execution_count": null,
      "outputs": [
        {
          "output_type": "stream",
          "name": "stdout",
          "text": [
            "99/99 [==============================] - 4s 35ms/step\n"
          ]
        }
      ]
    },
    {
      "cell_type": "code",
      "source": [
        "# Calculate regression metrics\n",
        "maeCN = mean_absolute_error(y_test, y_predCN)\n",
        "mseCN = mean_squared_error(y_test, y_predCN)\n",
        "rmseCN = np.sqrt(mseCN)\n",
        "r2CN = r2_score(y_test, y_predCN)\n",
        "\n",
        "print(\"Mean Absolute Error:\", maeCN)\n",
        "print(\"Mean Squared Error:\", mseCN)\n",
        "print(\"Root Mean Squared Error:\", rmseCN)\n",
        "print(\"R-squared (R²):\", r2CN)"
      ],
      "metadata": {
        "colab": {
          "base_uri": "https://localhost:8080/"
        },
        "id": "EJX7d2TqLteU",
        "outputId": "4943b185-9254-4ad6-d41c-cadd3f218642"
      },
      "execution_count": null,
      "outputs": [
        {
          "output_type": "stream",
          "name": "stdout",
          "text": [
            "Mean Absolute Error: 0.05732664299767183\n",
            "Mean Squared Error: 0.015317410850274306\n",
            "Root Mean Squared Error: 0.12376352794856127\n",
            "R-squared (R²): 0.9816748422739864\n"
          ]
        }
      ]
    },
    {
      "cell_type": "markdown",
      "source": [
        "### K-Nearest Neighbors Regressor (KNN) model\n",
        "\n",
        "K-Nearest Neighbors Regressor (KNN) model :\n",
        "Here we define k-Nearest Neighbors (k-NN) algorithm for regression. Here prediction is based on similarity between input datapoint and K-nearest neighbour.We use scikit-learn machine learning library helps in creating an instance of the KNeighborsRegressor class.\n",
        "Hyperparameter n_neighbors is set to 20, which means that the k-NN algorithm will consider the 20 nearest neighbors when making predictions.\n"
      ],
      "metadata": {
        "id": "3QIRjXxRGT9U"
      }
    },
    {
      "cell_type": "markdown",
      "source": [
        "Fitting the model with n_neighbours of 20 nearest neighbors to consider when making predictions and predicting on the unseen data."
      ],
      "metadata": {
        "id": "Pr-Gm1Q0FCTA"
      }
    },
    {
      "cell_type": "code",
      "execution_count": null,
      "metadata": {
        "id": "QCDw9McAYMtj"
      },
      "outputs": [],
      "source": [
        "knn = KNeighborsRegressor(n_neighbors=20)  # Example with k=20\n",
        "knn.fit(x_train, y_train)\n",
        "y_pred3 = knn.predict(x_test)"
      ]
    },
    {
      "cell_type": "markdown",
      "source": [
        "Getting performance score on the unseen data and checking how well the model fits to the real problem."
      ],
      "metadata": {
        "id": "Nmcismv9GQOv"
      }
    },
    {
      "cell_type": "code",
      "execution_count": null,
      "metadata": {
        "colab": {
          "base_uri": "https://localhost:8080/"
        },
        "id": "9tC5kaSCPC0W",
        "outputId": "7c4fdc90-b670-47dc-deec-a660ccb5021a"
      },
      "outputs": [
        {
          "output_type": "stream",
          "name": "stdout",
          "text": [
            "Mean Absolute Error (MAE): 0.02350145508607135\n",
            "Mean Squared Error (MSE): 0.010319855833938988\n",
            "Root Mean Squared Error (RMSE): 0.09236426699469329\n",
            "R-squared (R²): 0.9882062690963179\n"
          ]
        }
      ],
      "source": [
        "mae3 = mean_absolute_error(y_test, y_pred3)\n",
        "mse3 = mean_squared_error(y_test, y_pred3)\n",
        "rmse3 = np.sqrt(mse)\n",
        "r23 = r2_score(y_test, y_pred3)\n",
        "\n",
        "print(\"Mean Absolute Error (MAE):\", mae3)\n",
        "print(\"Mean Squared Error (MSE):\", mse3)\n",
        "print(\"Root Mean Squared Error (RMSE):\", rmse3)\n",
        "print(\"R-squared (R²):\", r23)"
      ]
    },
    {
      "cell_type": "markdown",
      "source": [
        "### **PLOTS**"
      ],
      "metadata": {
        "id": "4j-1EmHtGk1w"
      }
    },
    {
      "cell_type": "markdown",
      "source": [
        "### Plotting the performance based the score described above"
      ],
      "metadata": {
        "id": "YMqZUEUOGcF5"
      }
    },
    {
      "cell_type": "code",
      "execution_count": null,
      "metadata": {
        "colab": {
          "base_uri": "https://localhost:8080/",
          "height": 490
        },
        "id": "kKAQj18fSQ3T",
        "outputId": "8036cbc0-e4f6-4367-b162-ad64543a6668"
      },
      "outputs": [
        {
          "output_type": "execute_result",
          "data": {
            "text/plain": [
              "Text(0.5, 1.0, 'Different Model Fit Comaprison based on R-Square value')"
            ]
          },
          "metadata": {},
          "execution_count": 33
        },
        {
          "output_type": "display_data",
          "data": {
            "text/plain": [
              "<Figure size 640x480 with 1 Axes>"
            ],
            "image/png": "[encoded data removed]"
          },
          "metadata": {}
        }
      ],
      "source": [
        "# Create a scatter plot\n",
        "plt.scatter(['NN','CNN','CN','KNN'], [r2, r22, r2CN, r23], label='Data Points', color='blue', marker='o')\n",
        "plt.xlabel('Models')\n",
        "plt.ylabel('R square')\n",
        "plt.title('Different Model Fit Comaprison based on R-Square value')"
      ]
    },
    {
      "cell_type": "code",
      "execution_count": null,
      "metadata": {
        "colab": {
          "base_uri": "https://localhost:8080/",
          "height": 490
        },
        "id": "3r1BzRDoW6iF",
        "outputId": "f779d38a-a249-45a3-f82e-249793c77ef6"
      },
      "outputs": [
        {
          "output_type": "execute_result",
          "data": {
            "text/plain": [
              "Text(0.5, 1.0, 'Different Model Fit Comaprison based on MAE')"
            ]
          },
          "metadata": {},
          "execution_count": 34
        },
        {
          "output_type": "display_data",
          "data": {
            "text/plain": [
              "<Figure size 640x480 with 1 Axes>"
            ],
            "image/png": "[encoded data removed]"
          },
          "metadata": {}
        }
      ],
      "source": [
        "plt.scatter(['NN','CNN','CN','KNN'], [mae, mae2, maeCN, mae3], label='Data Points', color='blue', marker='o')\n",
        "plt.xlabel('Models')\n",
        "plt.ylabel('R square')\n",
        "plt.title('Different Model Fit Comaprison based on MAE')"
      ]
    },
    {
      "cell_type": "code",
      "execution_count": null,
      "metadata": {
        "colab": {
          "base_uri": "https://localhost:8080/",
          "height": 490
        },
        "id": "91phnPIVPrB2",
        "outputId": "00e61e95-5237-4bd4-d07c-6c35995148f9"
      },
      "outputs": [
        {
          "output_type": "execute_result",
          "data": {
            "text/plain": [
              "Text(0.5, 1.0, 'Different Model Fit Comaprison based on MSE')"
            ]
          },
          "metadata": {},
          "execution_count": 35
        },
        {
          "output_type": "display_data",
          "data": {
            "text/plain": [
              "<Figure size 640x480 with 1 Axes>"
            ],
            "image/png": "[encoded data removed]"
          },
          "metadata": {}
        }
      ],
      "source": [
        "plt.scatter(['NN','CNN','CN','KNN'], [mse, mse2, mseCN, mse3], label='Data Points', color='blue', marker='o')\n",
        "plt.xlabel('Models')\n",
        "plt.ylabel('R square')\n",
        "plt.title('Different Model Fit Comaprison based on MSE')"
      ]
    },
    {
      "cell_type": "code",
      "execution_count": null,
      "metadata": {
        "colab": {
          "base_uri": "https://localhost:8080/",
          "height": 490
        },
        "id": "ejQDOiKdPxq1",
        "outputId": "5b5ff10e-20b2-4855-c606-a45780ea6479"
      },
      "outputs": [
        {
          "output_type": "execute_result",
          "data": {
            "text/plain": [
              "Text(0.5, 1.0, 'Different Model Fit Comaprison based on RMSE')"
            ]
          },
          "metadata": {},
          "execution_count": 36
        },
        {
          "output_type": "display_data",
          "data": {
            "text/plain": [
              "<Figure size 640x480 with 1 Axes>"
            ],
            "image/png": "[encoded data removed]"
          },
          "metadata": {}
        }
      ],
      "source": [
        "plt.scatter(['NN','CNN','CN','KNN'], [rmse, rmse2,rmseCN, rmse3], label='Data Points', color='blue', marker='o')\n",
        "plt.xlabel('Models')\n",
        "plt.ylabel('R square')\n",
        "plt.title('Different Model Fit Comaprison based on RMSE')"
      ]
    }
  ],
  "metadata": {
    "colab": {
      "provenance": []
    },
    "kernelspec": {
      "display_name": "Python 3",
      "name": "python3"
    },
    "language_info": {
      "name": "python"
    }
  },
  "nbformat": 4,
  "nbformat_minor": 0
}